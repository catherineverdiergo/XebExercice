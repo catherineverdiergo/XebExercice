{
 "cells": [
  {
   "cell_type": "markdown",
   "metadata": {},
   "source": [
    "# Robot Mowers"
   ]
  },
  {
   "cell_type": "markdown",
   "metadata": {},
   "source": [
    "## Presentation\n",
    "The goal of this exercice is to design robot mowers able to operate on a grid lawn.\n",
    "\n",
    "The lawn is a grid with:\n",
    "* bottom left coordinates defined by (0,0);\n",
    "* upper right coordinates defined as variables (first line of a test file).\n",
    "\n",
    "The mowers are defined by their status: (position, orientation) ==> position represents the coordinates of a mower on the lawn and orientation could be N, E, S or W.\n",
    "The mowers should be able to perform actions regarding a sequence of the following codes: A (move forward), D (orient to the right) or G (orient to the left)."
   ]
  },
  {
   "cell_type": "markdown",
   "metadata": {},
   "source": [
    "## Test files\n",
    "\n",
    "The program should be able to apply scenarii defined in a test file having the following format:\n",
    "* 1st line: coordinates of the upper right corner of the lawn;\n",
    "* next lines which should be read 2 by 2 and each couple of lines gives the status of a mower (first line) and a program (string of action codes) which should be executed by the mower.\n",
    "\n",
    "An example of test file is given below:"
   ]
  },
  {
   "cell_type": "code",
   "execution_count": 1,
   "metadata": {},
   "outputs": [
    {
     "name": "stdout",
     "output_type": "stream",
     "text": [
      "5 5\r\n",
      "1 2 N\r\n",
      "GAGAGAGAA\r\n",
      "3 3 E\r\n",
      "AADAADADDA\r\n"
     ]
    }
   ],
   "source": [
    "! cat testmowers1.data"
   ]
  },
  {
   "cell_type": "markdown",
   "metadata": {},
   "source": [
    "The projects includes 3 test files:"
   ]
  },
  {
   "cell_type": "code",
   "execution_count": 2,
   "metadata": {},
   "outputs": [
    {
     "name": "stdout",
     "output_type": "stream",
     "text": [
      "testmowers1.data  testmowers2.data  testmowers3.data\r\n"
     ]
    }
   ],
   "source": [
    "! ls testmowers*.data"
   ]
  },
  {
   "cell_type": "markdown",
   "metadata": {},
   "source": [
    "## Python files\n",
    "The project includes following python files:"
   ]
  },
  {
   "cell_type": "markdown",
   "metadata": {},
   "source": [
    "|         file        |                                        description                                        |\n",
    "|:-------------------:|:-----------------------------------------------------------------------------------------:|\n",
    "| mower.py            | Implements the Mower class                                                                |\n",
    "| mowerstestplayer.py | Implements the MowerTestPlayer class (which is able to parse an execute a test scenario)  |\n",
    "| testmowers.py       | Unit test class (there is one test by existing test scenario)                             |\n",
    "| mowersviz.py        | Implements a class to visualize a test scenario (runs under an anaconda environment only) |"
   ]
  },
  {
   "cell_type": "markdown",
   "metadata": {},
   "source": [
    "## Python version"
   ]
  },
  {
   "cell_type": "code",
   "execution_count": 3,
   "metadata": {},
   "outputs": [
    {
     "name": "stdout",
     "output_type": "stream",
     "text": [
      "3.7.3 (default, Mar 27 2019, 22:11:17) \n",
      "[GCC 7.3.0]\n"
     ]
    }
   ],
   "source": [
    "import sys\n",
    "print(sys.version)"
   ]
  },
  {
   "cell_type": "markdown",
   "metadata": {},
   "source": [
    "## Run unit tests\n",
    "Unit tests could be executed on a classical python 3 environmement (I have not tested it with Python 2.7)\n",
    "\n",
    "To run tests process as follow:"
   ]
  },
  {
   "cell_type": "code",
   "execution_count": 4,
   "metadata": {},
   "outputs": [
    {
     "name": "stdout",
     "output_type": "stream",
     "text": [
      "...\r\n",
      "----------------------------------------------------------------------\r\n",
      "Ran 3 tests in 0.001s\r\n",
      "\r\n",
      "OK\r\n"
     ]
    }
   ],
   "source": [
    "! python -m unittest testmowers.MowerTestCase"
   ]
  },
  {
   "cell_type": "markdown",
   "metadata": {},
   "source": [
    "## Scenario visualization\n",
    "\n",
    "This part of the code is running on an anaconda3 environement because it uses numpy and matplotlib libraries.\n",
    "\n",
    "The cells of the current documents can be re-executed with jupyter notebook (included in anaconda3)\n",
    "\n",
    "Using the Mowersviz class, we will generate an then embbed in this ipython noteebook file an animated gif file to visualize a complete test scenario."
   ]
  },
  {
   "cell_type": "code",
   "execution_count": 5,
   "metadata": {},
   "outputs": [],
   "source": [
    "%matplotlib inline\n",
    "import warnings\n",
    "warnings.filterwarnings('ignore')\n",
    "from mowersviz import MowersViz"
   ]
  },
  {
   "cell_type": "code",
   "execution_count": 6,
   "metadata": {},
   "outputs": [],
   "source": [
    "%%capture\n",
    "mViz = MowersViz('testmowers1.data')\n",
    "mViz.anim(anim_gif='testmowers1.gif')"
   ]
  },
  {
   "cell_type": "code",
   "execution_count": 7,
   "metadata": {},
   "outputs": [
    {
     "data": {
      "text/html": [
       "<img src=\"testmowers1.gif\">"
      ],
      "text/plain": [
       "<IPython.core.display.HTML object>"
      ]
     },
     "execution_count": 7,
     "metadata": {},
     "output_type": "execute_result"
    }
   ],
   "source": [
    "from IPython.display import HTML\n",
    "HTML('<img src=\"testmowers1.gif\">')"
   ]
  },
  {
   "cell_type": "code",
   "execution_count": 8,
   "metadata": {},
   "outputs": [],
   "source": [
    "%%capture\n",
    "mViz = MowersViz('testmowers2.data')\n",
    "mViz.anim(anim_gif='testmowers2.gif')"
   ]
  },
  {
   "cell_type": "code",
   "execution_count": 9,
   "metadata": {},
   "outputs": [
    {
     "data": {
      "text/html": [
       "<img src=\"testmowers2.gif\">"
      ],
      "text/plain": [
       "<IPython.core.display.HTML object>"
      ]
     },
     "execution_count": 9,
     "metadata": {},
     "output_type": "execute_result"
    }
   ],
   "source": [
    "from IPython.display import HTML\n",
    "HTML('<img src=\"testmowers2.gif\">')"
   ]
  },
  {
   "cell_type": "code",
   "execution_count": 10,
   "metadata": {},
   "outputs": [],
   "source": [
    "%%capture\n",
    "mViz = MowersViz('testmowers3.data')\n",
    "mViz.anim(anim_gif='testmowers3.gif')"
   ]
  },
  {
   "cell_type": "code",
   "execution_count": 11,
   "metadata": {},
   "outputs": [
    {
     "data": {
      "text/html": [
       "<img src=\"testmowers3.gif\">"
      ],
      "text/plain": [
       "<IPython.core.display.HTML object>"
      ]
     },
     "execution_count": 11,
     "metadata": {},
     "output_type": "execute_result"
    }
   ],
   "source": [
    "from IPython.display import HTML\n",
    "HTML('<img src=\"testmowers3.gif\">')"
   ]
  }
 ],
 "metadata": {
  "kernelspec": {
   "display_name": "Python 3",
   "language": "python",
   "name": "python3"
  },
  "language_info": {
   "codemirror_mode": {
    "name": "ipython",
    "version": 3
   },
   "file_extension": ".py",
   "mimetype": "text/x-python",
   "name": "python",
   "nbconvert_exporter": "python",
   "pygments_lexer": "ipython3",
   "version": "3.7.3"
  }
 },
 "nbformat": 4,
 "nbformat_minor": 2
}
