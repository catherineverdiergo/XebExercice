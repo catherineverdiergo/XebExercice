{
 "cells": [
  {
   "cell_type": "code",
   "execution_count": 3,
   "metadata": {},
   "outputs": [],
   "source": [
    "%matplotlib inline\n",
    "from matplotlib import pyplot as plt\n",
    "import numpy as np"
   ]
  },
  {
   "cell_type": "code",
   "execution_count": 29,
   "metadata": {},
   "outputs": [
    {
     "data": {
      "image/png": "[encoded data removed]",
      "text/plain": [
       "<Figure size 288x288 with 1 Axes>"
      ]
     },
     "metadata": {
      "needs_background": "light"
     },
     "output_type": "display_data"
    }
   ],
   "source": [
    "# Make a 9x9 grid...\n",
    "nrows, ncols = 9,9\n",
    "image = np.zeros(nrows*ncols)\n",
    "\n",
    "# Set every other cell to a random number (this would be your data)\n",
    "image[::2] = np.random.random(nrows*ncols //2 + 1)\n",
    "#image[::2] = 0.9\n",
    "\n",
    "# Reshape things into a 9x9 grid.\n",
    "image = image.reshape((nrows, ncols))\n",
    "\n",
    "row_labels = range(nrows)\n",
    "col_labels = ['A', 'B', 'C', 'D', 'E', 'F', 'G', 'H', 'I']\n",
    "plt.matshow(image)\n",
    "plt.xticks(range(ncols), col_labels)\n",
    "plt.yticks(range(nrows), row_labels)\n",
    "plt.show()"
   ]
  },
  {
   "cell_type": "code",
   "execution_count": 49,
   "metadata": {},
   "outputs": [
    {
     "data": {
      "text/plain": [
       "array([[0.23355009, 0.        , 0.91311473, 0.        , 0.14550848,\n",
       "        0.        , 0.16336292, 0.        , 0.04960923],\n",
       "       [0.        , 0.05170189, 0.        , 0.4069224 , 0.        ,\n",
       "        0.3780084 , 0.        , 0.5196902 , 0.        ],\n",
       "       [0.3020738 , 0.        , 0.21768615, 0.        , 0.77790936,\n",
       "        0.        , 0.54287932, 0.        , 0.38511652],\n",
       "       [0.        , 0.20963338, 0.        , 0.71979076, 0.        ,\n",
       "        0.62767305, 0.        , 0.22408201, 0.        ],\n",
       "       [0.47301751, 0.        , 0.3721642 , 0.        , 0.03105056,\n",
       "        0.        , 0.6805936 , 0.        , 0.66832359],\n",
       "       [0.        , 0.92738962, 0.        , 0.11468693, 0.        ,\n",
       "        0.63909949, 0.        , 0.12447832, 0.        ],\n",
       "       [0.54772887, 0.        , 0.42623469, 0.        , 0.30766289,\n",
       "        0.        , 0.30978171, 0.        , 0.31814937],\n",
       "       [0.        , 0.92065289, 0.        , 0.98129922, 0.        ,\n",
       "        0.11903633, 0.        , 0.10405155, 0.        ],\n",
       "       [0.73304734, 0.        , 0.38339173, 0.        , 0.69001066,\n",
       "        0.        , 0.54255356, 0.        , 0.45775176]])"
      ]
     },
     "execution_count": 49,
     "metadata": {},
     "output_type": "execute_result"
    }
   ],
   "source": [
    "image"
   ]
  },
  {
   "cell_type": "code",
   "execution_count": 180,
   "metadata": {},
   "outputs": [
    {
     "data": {
      "text/plain": [
       "<matplotlib.patches.Circle at 0x7f99ae37f7b8>"
      ]
     },
     "execution_count": 180,
     "metadata": {},
     "output_type": "execute_result"
    },
    {
     "data": {
      "image/png": "[encoded data removed]",
      "text/plain": [
       "<Figure size 720x720 with 1 Axes>"
      ]
     },
     "metadata": {
      "needs_background": "light"
     },
     "output_type": "display_data"
    }
   ],
   "source": [
    "from matplotlib import cm\n",
    "from matplotlib.colors import ListedColormap\n",
    "\n",
    "greensBig = cm.get_cmap('Greens', 512)\n",
    "my_cmap = ListedColormap(greensBig(np.linspace(0.4, 0.6, 256)))\n",
    "fig, ax = plt.subplots(figsize=(10,10))\n",
    "chessboard = np.zeros((3, 4))\n",
    "#chessboard = np.full((4, 3), 0)\n",
    "#print(chessboard)\n",
    "plt.xlim(-0.5, 3.5)\n",
    "plt.ylim(-0.5, 2.5)\n",
    "plt.xticks(np.arange(0, 4, 1.0))\n",
    "plt.yticks(np.arange(0, 3, 1.0))\n",
    "chessboard[1::2, 0::2] = 1\n",
    "chessboard[0::2, 1::2] = 1\n",
    "plt.imshow(chessboard, cmap=my_cmap)\n",
    "circle2 = plt.Circle((3,2), 0.5, color='blue', alpha=0.3)\n",
    "plt.arrow(3,2,0.4,0, head_width=0.07, head_length=0.1, fc='w', ec='w', width=0.03)\n",
    "plt.arrow(3,2,0,0.4, head_width=0.05, head_length=0.1, fc='w', ec='w')\n",
    "plt.arrow(3,2,-0.4,0, head_width=0.05, head_length=0.1, fc='w', ec='w')\n",
    "plt.arrow(3,2,0,-0.4, head_width=0.05, head_length=0.1, fc='w', ec='w')\n",
    "#plt.arrow(3,2,3,1000)\n",
    "ax.add_artist(circle2)\n",
    "#plt.matshow(chessboard, cmap='flag')"
   ]
  },
  {
   "cell_type": "code",
   "execution_count": 120,
   "metadata": {},
   "outputs": [
    {
     "data": {
      "text/plain": [
       "array([[0, 1, 0],\n",
       "       [1, 0, 1],\n",
       "       [0, 1, 0],\n",
       "       [1, 0, 1]])"
      ]
     },
     "execution_count": 120,
     "metadata": {},
     "output_type": "execute_result"
    }
   ],
   "source": [
    "chessboard"
   ]
  },
  {
   "cell_type": "code",
   "execution_count": 83,
   "metadata": {},
   "outputs": [
    {
     "data": {
      "image/png": "[encoded data removed]",
      "text/plain": [
       "<Figure size 432x288 with 2 Axes>"
      ]
     },
     "metadata": {
      "needs_background": "light"
     },
     "output_type": "display_data"
    }
   ],
   "source": [
    "#Z = np.random.rand(6, 10)\n",
    "chessboard = np.full((8, 8), 0.62113237)\n",
    "chessboard[1::2, 0::2] = 1\n",
    "chessboard[0::2, 1::2] = 1\n",
    "chessboard = np.random.rand(6, 10)\n",
    "\n",
    "\n",
    "fig, (ax0, ax1) = plt.subplots(2, 1)\n",
    "\n",
    "c = ax0.pcolor(chessboard)\n",
    "ax0.set_title('default: no edges')\n",
    "\n",
    "c = ax1.pcolor(chessboard, edgecolors='w', linewidths=2)\n",
    "ax1.set_title('thick edges')\n",
    "\n",
    "fig.tight_layout()\n",
    "plt.show()"
   ]
  },
  {
   "cell_type": "code",
   "execution_count": 78,
   "metadata": {},
   "outputs": [
    {
     "data": {
      "text/plain": [
       "array([[0.22724891, 0.10250524, 0.5997561 , 0.4846922 , 0.09963224,\n",
       "        0.59141473, 0.26779452, 0.19263871, 0.62113237, 0.05209871],\n",
       "       [0.37488711, 0.27657613, 0.35655237, 0.94108859, 0.41622918,\n",
       "        0.65004018, 0.37487713, 0.20039088, 0.62450635, 0.06711442],\n",
       "       [0.75034592, 0.11998997, 0.67444066, 0.16747551, 0.61413646,\n",
       "        0.34355155, 0.92225736, 0.68246701, 0.6857772 , 0.05290435],\n",
       "       [0.16109886, 0.03602564, 0.4862135 , 0.13791365, 0.9307738 ,\n",
       "        0.45005974, 0.3588568 , 0.58974967, 0.76646624, 0.08573241],\n",
       "       [0.94711981, 0.24708249, 0.30600531, 0.03593052, 0.46971516,\n",
       "        0.51992818, 0.45716051, 0.82858778, 0.08238566, 0.61412986],\n",
       "       [0.17491169, 0.66334792, 0.0142611 , 0.96824282, 0.40860979,\n",
       "        0.04616527, 0.08073894, 0.35230523, 0.63244375, 0.47772579]])"
      ]
     },
     "execution_count": 78,
     "metadata": {},
     "output_type": "execute_result"
    }
   ],
   "source": [
    "chessboard"
   ]
  }
 ],
 "metadata": {
  "kernelspec": {
   "display_name": "Python 3",
   "language": "python",
   "name": "python3"
  },
  "language_info": {
   "codemirror_mode": {
    "name": "ipython",
    "version": 3
   },
   "file_extension": ".py",
   "mimetype": "text/x-python",
   "name": "python",
   "nbconvert_exporter": "python",
   "pygments_lexer": "ipython3",
   "version": "3.7.3"
  }
 },
 "nbformat": 4,
 "nbformat_minor": 2
}
