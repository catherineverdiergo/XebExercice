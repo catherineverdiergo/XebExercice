{
 "cells": [
  {
   "cell_type": "code",
   "execution_count": 18,
   "metadata": {},
   "outputs": [],
   "source": [
    "%matplotlib inline\n",
    "from matplotlib import pyplot as plt\n",
    "import numpy as np\n",
    "from matplotlib import cm\n",
    "from matplotlib.colors import ListedColormap\n",
    "from mowerstestplayer import MowersTestPlayer\n",
    "from mower import Mower\n",
    "\n",
    "\n",
    "class MowersViz(object):\n",
    "\n",
    "    LARGE_GREENS_CMAP = cm.get_cmap('Greens', 512)\n",
    "    FULL_GREEN_CMAP = ListedColormap(LARGE_GREENS_CMAP(np.linspace(0.4, 0.6, 256)))\n",
    "\n",
    "    def __init__(self, scenario_file):\n",
    "        self._scenario_file = scenario_file\n",
    "        mplayer = MowersTestPlayer(self._scenario_file)\n",
    "        mplayer.open()\n",
    "        self._scenario = mplayer.apply(with_history=True)\n",
    "\n",
    "    def draw_mower(self, ax, mower_index, step_number):\n",
    "        circle_x = self._scenario[mower_index][step_number][0][0][0]\n",
    "        circle_y = self._scenario[mower_index][step_number][0][0][1]\n",
    "        circle = plt.Circle((circle_x, circle_y), 0.5, color='blue', alpha=0.3)\n",
    "        #plt.arrow(3,2,0.4,0, head_width=0.07, head_length=0.1, fc='w', ec='w', width=0.03)\n",
    "        #plt.arrow(3,2,0,0.4, head_width=0.05, head_length=0.1, fc='w', ec='w')\n",
    "        #plt.arrow(3,2,-0.4,0, head_width=0.05, head_length=0.1, fc='w', ec='w')\n",
    "        #plt.arrow(3,2,0,-0.4, head_width=0.05, head_length=0.1, fc='w', ec='w')\n",
    "        orientation = self._scenario[mower_index][step_number][0][1]\n",
    "        ax.add_artist(circle)\n",
    "        if orientation == 'N':\n",
    "            plt.arrow(circle_x, circle_y, 0, 0.4, head_width=0.07, head_length=0.1, fc='w', ec='w', width=0.03)\n",
    "        elif orientation == 'E':\n",
    "            plt.arrow(circle_x, circle_y, 0.4, 0, head_width=0.07, head_length=0.1, fc='w', ec='w', width=0.03)\n",
    "        elif orientation == 'S':\n",
    "            plt.arrow(circle_x, circle_y, 0, -0.4, head_width=0.07, head_length=0.1, fc='w', ec='w', width=0.03)\n",
    "        elif orientation == 'W':\n",
    "            plt.arrow(circle_x, circle_y, -0.4, 0, head_width=0.07, head_length=0.1, fc='w', ec='w', width=0.03)\n",
    "\n",
    "    def display_step(self, mower_index, step_number):\n",
    "        fig, ax = plt.subplots(figsize=(10, 10))\n",
    "        grid_lawn = np.ones((Mower.GRID_UP_RIGHT_CORNER[1] + 1, Mower.GRID_UP_RIGHT_CORNER[0] + 1))\n",
    "        plt.xlim(-0.5, Mower.GRID_UP_RIGHT_CORNER[0] + 0.5)\n",
    "        plt.ylim(-0.5, Mower.GRID_UP_RIGHT_CORNER[0] + 0.5)\n",
    "        plt.xticks(np.arange(0, Mower.GRID_UP_RIGHT_CORNER[0] + 1, 1.0))\n",
    "        plt.yticks(np.arange(0, Mower.GRID_UP_RIGHT_CORNER[1] + 1, 1.0))\n",
    "        for step in range(step_number + 1):\n",
    "            x = self._scenario[mower_index][step][0][0][0]\n",
    "            y = self._scenario[mower_index][step][0][0][1]\n",
    "            grid_lawn[y, x] = 0\n",
    "        plt.imshow(grid_lawn, cmap=MowersViz.FULL_GREEN_CMAP)\n",
    "        # circle_x = self._scenario[mower_index][step_number][0][0][0]\n",
    "        # circle_y = self._scenario[mower_index][step_number][0][0][1]\n",
    "        # circle = plt.Circle((self._scenario[mower_index][step_number][0][0][0],\n",
    "        #                      self._scenario[mower_index][step_number][0][0][1]),\n",
    "        #                     0.5, color='blue', alpha=0.3)\n",
    "        # ax.add_artist(circle)\n",
    "        # orientation = self._scenario[mower_index][step_number][0][1]\n",
    "        # if orientation == 'N':\n",
    "        #     plt.arrow(3, 2, 0.4, 0, head_width=0.07, head_length=0.1, fc='w', ec='w', width=0.03)\n",
    "        self.draw_mower(ax, mower_index, step_number)\n",
    "        plt.show()\n",
    "\n",
    "\n"
   ]
  },
  {
   "cell_type": "code",
   "execution_count": 19,
   "metadata": {},
   "outputs": [
    {
     "data": {
      "image/png": "[encoded data removed]",
      "text/plain": [
       "<Figure size 720x720 with 1 Axes>"
      ]
     },
     "metadata": {
      "needs_background": "light"
     },
     "output_type": "display_data"
    }
   ],
   "source": [
    "    mViz = MowersViz('testmowers1.data')\n",
    "    mViz.display_step(0, 1)\n"
   ]
  },
  {
   "cell_type": "code",
   "execution_count": null,
   "metadata": {},
   "outputs": [],
   "source": []
  }
 ],
 "metadata": {
  "kernelspec": {
   "display_name": "Python 3",
   "language": "python",
   "name": "python3"
  },
  "language_info": {
   "codemirror_mode": {
    "name": "ipython",
    "version": 3
   },
   "file_extension": ".py",
   "mimetype": "text/x-python",
   "name": "python",
   "nbconvert_exporter": "python",
   "pygments_lexer": "ipython3",
   "version": "3.7.3"
  }
 },
 "nbformat": 4,
 "nbformat_minor": 2
}
